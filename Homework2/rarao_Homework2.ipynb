{
 "cells": [
  {
   "cell_type": "markdown",
   "metadata": {
    "id": "9p-FFN_yNDlH"
   },
   "source": [
    "# Homework 2: Exploring Solar System Bodies (Pandas introduction)\n",
    "Welcome to Assignment 12!\n",
    "\n",
    "In this assignment, we will analyze data about celestial bodies in the solar system using Python, NumPy, and Pandas. The goals of this assignment are to:\n",
    "\n",
    " - Open a simple dataset formatted as JSON using pandas.\n",
    " - Apply simple statistical analysis to real-world data.\n",
    " - Refine Python programming skills through hands-on practice.\n",
    " - Ensure you can run Python and Python notebook environments (e.g., Jupyter Notebook, JupyterLab, Collab, VSCode) and troubleshoot any setup issues.\n",
    "\n",
    "A key part of this homework is verifying that you can successfully run Python notebooks. If you encounter any difficulties, seek help from the instructor or AIs. Additionally, use Slack to ask questions or share insights. If you see a classmate struggling, helping them out will be great for a collaborative learning environment (and may count extra points in engagement 😀)."
   ]
  },
  {
   "cell_type": "code",
   "execution_count": 1,
   "metadata": {
    "id": "2z4vxHkNOKvz"
   },
   "outputs": [
    {
     "name": "stdout",
     "output_type": "stream",
     "text": [
      "Requirement already satisfied: numpy in /Library/Frameworks/Python.framework/Versions/3.12/lib/python3.12/site-packages (1.26.4)\n",
      "Requirement already satisfied: pandas in /Library/Frameworks/Python.framework/Versions/3.12/lib/python3.12/site-packages (2.2.3)\n",
      "Requirement already satisfied: python-dateutil>=2.8.2 in /Library/Frameworks/Python.framework/Versions/3.12/lib/python3.12/site-packages (from pandas) (2.9.0.post0)\n",
      "Requirement already satisfied: pytz>=2020.1 in /Library/Frameworks/Python.framework/Versions/3.12/lib/python3.12/site-packages (from pandas) (2024.2)\n",
      "Requirement already satisfied: tzdata>=2022.7 in /Library/Frameworks/Python.framework/Versions/3.12/lib/python3.12/site-packages (from pandas) (2024.2)\n",
      "Requirement already satisfied: six>=1.5 in /Library/Frameworks/Python.framework/Versions/3.12/lib/python3.12/site-packages (from python-dateutil>=2.8.2->pandas) (1.16.0)\n"
     ]
    }
   ],
   "source": [
    "# if you are running this notebook in your local machine,\n",
    "# make sure you have all the dependencies installed\n",
    "# uncomment the following lines to install the dependencies\n",
    "# This may be needed if you are running this notebook in online\n",
    "# environments such as Google Colab\n",
    "\n",
    "!pip install numpy pandas\n",
    "\n",
    "# also copy the data file to the same directory as this notebook\n",
    "# and update the paths accordingly"
   ]
  },
  {
   "cell_type": "markdown",
   "metadata": {},
   "source": [
    "### Instructions\n",
    "\n",
    "1. Follow the instructions on how to setup your Python and Jupyter (or VSCode) environment and cloning or downloading our repository. Instructions can be found in the class notes.\n",
    "2. Ensure that you have Python, Jupyter Notebook, and the necessary libraries installed (`NumPy` and `Pandas`).\n",
    "3. Load the dataset `Datasets/sol_data.json` into a Pandas DataFrame.\n",
    "4. Answer the questions below by writing Python code.\n",
    "5. No plots or visualizations are required—your insights should come from code-based analysis and outputs.\n",
    "\n",
    "### Dataset Overview\n",
    "The dataset contains information about celestial objects, including:\n",
    "- **isPlanet**: Indicates whether the object is a planet (`True` or `False`).\n",
    "- **isDwarfPlanet**: Indicates whether the object is a dwarf planet (`True` or `False`).\n",
    "- **orbit_type**: Classifies the object as \"Primary\" (planets) or \"Secondary\" (moons).\n",
    "- Physical and orbital properties, such as **mass**, **density**, **meanRadius**, **gravity**, **sideralOrbit**, and more.\n",
    "\n",
    "\n",
    "### Submission Guidelines\n",
    "\n",
    "- Submit your completed notebook as a HTML export, or a PDF file.\n",
    "\n",
    "To export to HTML, if you are on Jupyter, select `File` > `Export Notebook As` > `HTML`.\n",
    "\n",
    "If you are on VSCode, you can use the `Jupyter: Export to HTML` command.\n",
    " - Open the command palette (Ctrl+Shift+P or Cmd+Shift+P on Mac).\n",
    "    - Search for `Jupyter: Export to HTML`.\n",
    "    - Save the HTML file to your computer and submit it via Canvas.\n",
    "\n",
    "---\n",
    "\n",
    "> **Hint:** If you are learning pandas, check out our tutorials or the official documentation:\n",
    "> - [Pandas Getting started](https://pandas.pydata.org/docs/getting_started/intro_tutorials/index.html)\n",
    "> - [Pandas DataFrame API Documentation](https://pandas.pydata.org/docs/reference/frame.html)\n",
    "> - [Our lecture on Pandas](https://filipinascimento.github.io/usable_ai/panda_basics)\n",
    "> \n",
    "> \n",
    "> **Using Generative AI Responsibly**\n",
    ">\n",
    "> You're welcome to use Generative AI to assist your learning, but focus on understanding the concepts rather than just solving the assignment. For example:\n",
    ">\n",
    "> - Instead of asking: `What's the code to count moons orbiting each planet?`\n",
    "> - Try asking: `How can I use Pandas to group and count values? Can you provide examples? Can you explain the steps?`\n",
    ">\n",
    "> This way, you will learn how the solution works while building your skills. Remember to give context to the generative AI, so it can better assist you. Talk to the instructor and AIs if you have any questions or need insights."
   ]
  },
  {
   "cell_type": "code",
   "execution_count": 2,
   "metadata": {
    "id": "BabmrjoRNDlN"
   },
   "outputs": [
    {
     "data": {
      "text/html": [
       "<div>\n",
       "<style scoped>\n",
       "    .dataframe tbody tr th:only-of-type {\n",
       "        vertical-align: middle;\n",
       "    }\n",
       "\n",
       "    .dataframe tbody tr th {\n",
       "        vertical-align: top;\n",
       "    }\n",
       "\n",
       "    .dataframe thead th {\n",
       "        text-align: right;\n",
       "    }\n",
       "</style>\n",
       "<table border=\"1\" class=\"dataframe\">\n",
       "  <thead>\n",
       "    <tr style=\"text-align: right;\">\n",
       "      <th></th>\n",
       "      <th>eName</th>\n",
       "      <th>isPlanet</th>\n",
       "      <th>isDwarfPlanet</th>\n",
       "      <th>semimajorAxis</th>\n",
       "      <th>perihelion</th>\n",
       "      <th>aphelion</th>\n",
       "      <th>eccentricity</th>\n",
       "      <th>inclination</th>\n",
       "      <th>density</th>\n",
       "      <th>gravity</th>\n",
       "      <th>...</th>\n",
       "      <th>orbits</th>\n",
       "      <th>bondAlbido</th>\n",
       "      <th>geomAlbido</th>\n",
       "      <th>RV_abs</th>\n",
       "      <th>p_transit</th>\n",
       "      <th>transit_visibility</th>\n",
       "      <th>transit_depth</th>\n",
       "      <th>massj</th>\n",
       "      <th>semimajorAxis_AU</th>\n",
       "      <th>grav_int</th>\n",
       "    </tr>\n",
       "  </thead>\n",
       "  <tbody>\n",
       "    <tr>\n",
       "      <th>0</th>\n",
       "      <td>Moon</td>\n",
       "      <td>False</td>\n",
       "      <td>False</td>\n",
       "      <td>384400</td>\n",
       "      <td>363300</td>\n",
       "      <td>405500</td>\n",
       "      <td>0.0549</td>\n",
       "      <td>5.145</td>\n",
       "      <td>3.344</td>\n",
       "      <td>1.6200</td>\n",
       "      <td>...</td>\n",
       "      <td>Earth</td>\n",
       "      <td>NaN</td>\n",
       "      <td>NaN</td>\n",
       "      <td>NaN</td>\n",
       "      <td>1.811589</td>\n",
       "      <td>326.086108</td>\n",
       "      <td>2.200000e-09</td>\n",
       "      <td>0.000039</td>\n",
       "      <td>0.002570</td>\n",
       "      <td>6.606324e+25</td>\n",
       "    </tr>\n",
       "    <tr>\n",
       "      <th>1</th>\n",
       "      <td>Phobos</td>\n",
       "      <td>False</td>\n",
       "      <td>False</td>\n",
       "      <td>9376</td>\n",
       "      <td>9234</td>\n",
       "      <td>9518</td>\n",
       "      <td>0.0151</td>\n",
       "      <td>1.075</td>\n",
       "      <td>1.900</td>\n",
       "      <td>0.0057</td>\n",
       "      <td>...</td>\n",
       "      <td>Mars</td>\n",
       "      <td>NaN</td>\n",
       "      <td>NaN</td>\n",
       "      <td>NaN</td>\n",
       "      <td>74.272078</td>\n",
       "      <td>13368.973976</td>\n",
       "      <td>2.200000e-09</td>\n",
       "      <td>0.000000</td>\n",
       "      <td>0.000063</td>\n",
       "      <td>1.601437e+22</td>\n",
       "    </tr>\n",
       "    <tr>\n",
       "      <th>2</th>\n",
       "      <td>Deimos</td>\n",
       "      <td>False</td>\n",
       "      <td>False</td>\n",
       "      <td>23458</td>\n",
       "      <td>23456</td>\n",
       "      <td>23471</td>\n",
       "      <td>0.0002</td>\n",
       "      <td>1.075</td>\n",
       "      <td>1.750</td>\n",
       "      <td>0.0030</td>\n",
       "      <td>...</td>\n",
       "      <td>Mars</td>\n",
       "      <td>NaN</td>\n",
       "      <td>NaN</td>\n",
       "      <td>NaN</td>\n",
       "      <td>29.686035</td>\n",
       "      <td>5343.486231</td>\n",
       "      <td>2.200000e-09</td>\n",
       "      <td>0.000000</td>\n",
       "      <td>0.000157</td>\n",
       "      <td>5.792534e+20</td>\n",
       "    </tr>\n",
       "    <tr>\n",
       "      <th>3</th>\n",
       "      <td>Io</td>\n",
       "      <td>False</td>\n",
       "      <td>False</td>\n",
       "      <td>421800</td>\n",
       "      <td>0</td>\n",
       "      <td>0</td>\n",
       "      <td>0.0040</td>\n",
       "      <td>0.036</td>\n",
       "      <td>3.530</td>\n",
       "      <td>1.7900</td>\n",
       "      <td>...</td>\n",
       "      <td>Jupiter</td>\n",
       "      <td>NaN</td>\n",
       "      <td>NaN</td>\n",
       "      <td>NaN</td>\n",
       "      <td>1.655200</td>\n",
       "      <td>297.936060</td>\n",
       "      <td>6.842500e-06</td>\n",
       "      <td>0.000047</td>\n",
       "      <td>0.002820</td>\n",
       "      <td>6.666188e+25</td>\n",
       "    </tr>\n",
       "    <tr>\n",
       "      <th>4</th>\n",
       "      <td>Europa</td>\n",
       "      <td>False</td>\n",
       "      <td>False</td>\n",
       "      <td>671100</td>\n",
       "      <td>0</td>\n",
       "      <td>0</td>\n",
       "      <td>0.0090</td>\n",
       "      <td>0.466</td>\n",
       "      <td>3.010</td>\n",
       "      <td>1.3100</td>\n",
       "      <td>...</td>\n",
       "      <td>Jupiter</td>\n",
       "      <td>NaN</td>\n",
       "      <td>NaN</td>\n",
       "      <td>NaN</td>\n",
       "      <td>1.039939</td>\n",
       "      <td>187.188949</td>\n",
       "      <td>5.024000e-06</td>\n",
       "      <td>0.000025</td>\n",
       "      <td>0.004486</td>\n",
       "      <td>1.415488e+25</td>\n",
       "    </tr>\n",
       "  </tbody>\n",
       "</table>\n",
       "<p>5 rows × 32 columns</p>\n",
       "</div>"
      ],
      "text/plain": [
       "    eName  isPlanet  isDwarfPlanet  semimajorAxis  perihelion  aphelion  \\\n",
       "0    Moon     False          False         384400      363300    405500   \n",
       "1  Phobos     False          False           9376        9234      9518   \n",
       "2  Deimos     False          False          23458       23456     23471   \n",
       "3      Io     False          False         421800           0         0   \n",
       "4  Europa     False          False         671100           0         0   \n",
       "\n",
       "   eccentricity  inclination  density  gravity  ...   orbits  bondAlbido  \\\n",
       "0        0.0549        5.145    3.344   1.6200  ...    Earth         NaN   \n",
       "1        0.0151        1.075    1.900   0.0057  ...     Mars         NaN   \n",
       "2        0.0002        1.075    1.750   0.0030  ...     Mars         NaN   \n",
       "3        0.0040        0.036    3.530   1.7900  ...  Jupiter         NaN   \n",
       "4        0.0090        0.466    3.010   1.3100  ...  Jupiter         NaN   \n",
       "\n",
       "   geomAlbido  RV_abs  p_transit transit_visibility  transit_depth     massj  \\\n",
       "0         NaN     NaN   1.811589         326.086108   2.200000e-09  0.000039   \n",
       "1         NaN     NaN  74.272078       13368.973976   2.200000e-09  0.000000   \n",
       "2         NaN     NaN  29.686035        5343.486231   2.200000e-09  0.000000   \n",
       "3         NaN     NaN   1.655200         297.936060   6.842500e-06  0.000047   \n",
       "4         NaN     NaN   1.039939         187.188949   5.024000e-06  0.000025   \n",
       "\n",
       "  semimajorAxis_AU      grav_int  \n",
       "0         0.002570  6.606324e+25  \n",
       "1         0.000063  1.601437e+22  \n",
       "2         0.000157  5.792534e+20  \n",
       "3         0.002820  6.666188e+25  \n",
       "4         0.004486  1.415488e+25  \n",
       "\n",
       "[5 rows x 32 columns]"
      ]
     },
     "execution_count": 2,
     "metadata": {},
     "output_type": "execute_result"
    }
   ],
   "source": [
    "import pandas as pd\n",
    "import numpy as np\n",
    "\n",
    "# Load the dataset\n",
    "data = pd.read_json('/Users/rad/Desktop/Useable Ai/Assignments/HW2 Week 3/sol_data.json')\n",
    "# The ../../ are needed to go back two levels in the directory structure.\n",
    "# Note that the path is relative to the location of the notebook file. Double check\n",
    "# if the path is correct based on your system\n",
    "data.head()"
   ]
  },
  {
   "cell_type": "markdown",
   "metadata": {},
   "source": [
    "### 1. General Information\n",
    "\n",
    "- How many objects are in the dataset?\n",
    "- How many are planets? How many are moons?\n"
   ]
  },
  {
   "cell_type": "code",
   "execution_count": 3,
   "metadata": {},
   "outputs": [
    {
     "name": "stdout",
     "output_type": "stream",
     "text": [
      "Total number of objects: 265\n"
     ]
    }
   ],
   "source": [
    "# Total number of objects\n",
    "# Fill in code to calculate total number of objects\n",
    "total_objects = data.shape[0]\n",
    "print(f\"Total number of objects: {total_objects}\")"
   ]
  },
  {
   "cell_type": "code",
   "execution_count": 4,
   "metadata": {},
   "outputs": [
    {
     "name": "stdout",
     "output_type": "stream",
     "text": [
      "Number of planets in the dataset: 8\n"
     ]
    }
   ],
   "source": [
    "# Number of planets\n",
    "planetsdf = data[data['isPlanet'] == True ].shape[0]\n",
    "print(f\"Number of planets in the dataset: {planetsdf}\")"
   ]
  },
  {
   "cell_type": "code",
   "execution_count": 8,
   "metadata": {
    "collapsed": false,
    "id": "nhy-_f8eNDlO",
    "inputHidden": false,
    "jupyter": {
     "outputs_hidden": false
    },
    "outputHidden": false
   },
   "outputs": [
    {
     "name": "stdout",
     "output_type": "stream",
     "text": [
      "Number of moons in the dataset: 205\n"
     ]
    }
   ],
   "source": [
    "# Number of moons\n",
    "# Fill in code to calculate number of moons\n",
    "num_moons = data[data['orbit_type'] == 'Secondary'].shape[0]\n",
    "print(f\"Number of moons in the dataset: {num_moons}\")"
   ]
  },
  {
   "cell_type": "markdown",
   "metadata": {},
   "source": [
    "> **Hint**: By moon we mean a natural satellite of a planet or another object in the solar system. Take a look at the columns and see if you can identify the criteria for classifying an object as a moon. Ask the instructor or AIs for help if needed. "
   ]
  },
  {
   "cell_type": "markdown",
   "metadata": {},
   "source": [
    "### 2. Planets\n",
    "\n",
    "- What is the mean density of all planets?\n",
    "- Which planet has the highest surface gravity, and what is its gravity value?\n",
    "- List all planets in descending order of their mass.\n"
   ]
  },
  {
   "cell_type": "code",
   "execution_count": 9,
   "metadata": {},
   "outputs": [],
   "source": [
    "planets_df = data[data['isPlanet'] == True]"
   ]
  },
  {
   "cell_type": "code",
   "execution_count": 11,
   "metadata": {},
   "outputs": [
    {
     "name": "stdout",
     "output_type": "stream",
     "text": [
      "Mean Density of all planets: 3.13 g/cm³\n"
     ]
    }
   ],
   "source": [
    "# Mean density of all planets\n",
    "planets = data[(data['isPlanet'] == True)]\n",
    "\n",
    "mean_density = planets['density'].mean()\n",
    "\n",
    "print(f\"Mean Density of all planets: {mean_density:.2f} g/cm³\")"
   ]
  },
  {
   "cell_type": "code",
   "execution_count": 12,
   "metadata": {},
   "outputs": [
    {
     "name": "stdout",
     "output_type": "stream",
     "text": [
      "Planet with the highest gravity: Jupiter (24.79 m/s²)\n"
     ]
    }
   ],
   "source": [
    "# Planet with the highest surface gravity\n",
    "max_gravity_planet = planets.loc[planets['gravity'].idxmax()]\n",
    "\n",
    "print(f\"Planet with the highest gravity: {max_gravity_planet['eName']} ({max_gravity_planet['gravity']} m/s²)\")"
   ]
  },
  {
   "cell_type": "code",
   "execution_count": 13,
   "metadata": {},
   "outputs": [
    {
     "name": "stdout",
     "output_type": "stream",
     "text": [
      "Planets sorted by descending mass:\n",
      "\n",
      "Jupiter: 1.90e+27 kg\n",
      "Saturn: 5.68e+26 kg\n",
      "Neptune: 1.02e+26 kg\n",
      "Uranus: 8.68e+25 kg\n",
      "Earth: 5.97e+24 kg\n",
      "Venus: 4.87e+24 kg\n",
      "Mars: 6.42e+23 kg\n",
      "Mercury: 3.30e+23 kg\n"
     ]
    }
   ],
   "source": [
    "# Planets by descending mass\n",
    "sorted_planets = planets.sort_values(by='mass_kg', ascending=False)\n",
    "\n",
    "print(\"Planets sorted by descending mass:\\n\")\n",
    "for _, row in sorted_planets.iterrows():\n",
    "    print(f\"{row['eName']}: {row['mass_kg']:.2e} kg\")"
   ]
  },
  {
   "cell_type": "markdown",
   "metadata": {},
   "source": [
    "### 3. Moons (Satellites)\n",
    "- How many moons orbit each planet? Present this as a table or dictionary.\n",
    "- What is the average radius (meanRadius) of all moons?\n",
    "- Compare the average surface gravity of moons to that of planets.\n"
   ]
  },
  {
   "cell_type": "code",
   "execution_count": 14,
   "metadata": {},
   "outputs": [
    {
     "name": "stdout",
     "output_type": "stream",
     "text": [
      "Jupiter: 79 moons\n",
      "Saturn: 65 moons\n",
      "Uranus: 27 moons\n",
      "Neptune: 14 moons\n",
      "Pluto: 5 moons\n",
      "Mars: 2 moons\n",
      "136108 Haumea: 2 moons\n",
      "87 Sylvia: 2 moons\n",
      "216 Kleopatra: 2 moons\n",
      "Earth: 1 moon\n",
      "136199 Eris: 1 moon\n",
      "45 Eugenia: 1 moon\n",
      "90482 Orcus: 1 moon\n",
      "243 Ida: 1 moon\n",
      "50000 Quaoar: 1 moon\n",
      "136472 Makemake: 1 moon\n"
     ]
    }
   ],
   "source": [
    "# Number of moons orbiting each planet\n",
    "moons = data[data['orbit_type'] == 'Secondary']\n",
    "\n",
    "moons_per_planet = moons['orbits'].value_counts()\n",
    "\n",
    "for planet, count in moons_per_planet.items():\n",
    "    moon_word = \"moon\" if count == 1 else \"moons\"\n",
    "    print(f\"{planet}: {count} {moon_word}\")"
   ]
  },
  {
   "cell_type": "code",
   "execution_count": 15,
   "metadata": {},
   "outputs": [
    {
     "name": "stdout",
     "output_type": "stream",
     "text": [
      "Average radius of all moons: 120.96 km\n"
     ]
    }
   ],
   "source": [
    "# Average radius of all moons\n",
    "moons = data[data['orbit_type'] == 'Secondary']\n",
    "average_moon_radius = moons['meanRadius'].mean()\n",
    "print(f\"Average radius of all moons: {average_moon_radius:.2f} km\")"
   ]
  },
  {
   "cell_type": "code",
   "execution_count": 16,
   "metadata": {},
   "outputs": [
    {
     "name": "stdout",
     "output_type": "stream",
     "text": [
      "Average surface gravity of moons: 0.04 m/s²\n",
      "Average surface gravity of planets: 10.17 m/s²\n",
      "Planets have a higher average surface gravity than moons.\n"
     ]
    }
   ],
   "source": [
    "# Compare average surface gravity of moons vs. planets\n",
    "\n",
    "moons = data[data['orbit_type'] == 'Secondary']\n",
    "avg_moon_gravity = moons['gravity'].mean()\n",
    "\n",
    "# Compute average gravity of planets\n",
    "planets = data[data['isPlanet'] == True]\n",
    "avg_planet_gravity = planets['gravity'].mean()\n",
    "\n",
    "print(f\"Average surface gravity of moons: {avg_moon_gravity:.2f} m/s²\")\n",
    "print(f\"Average surface gravity of planets: {avg_planet_gravity:.2f} m/s²\")\n",
    "\n",
    "# Compare which is higher\n",
    "if avg_moon_gravity > avg_planet_gravity:\n",
    "    print(\"Moons have a higher average surface gravity than planets.\")\n",
    "else:\n",
    "    print(\"Planets have a higher average surface gravity than moons.\")"
   ]
  },
  {
   "cell_type": "markdown",
   "metadata": {},
   "source": [
    "### 4. Orbital Properties\n",
    "\n",
    "- Which object has the highest orbital eccentricity, and what is its value?\n",
    "- Calculate the average semi-major axis (semimajorAxis) for planets and compare it to that of moons.\n",
    "- Identify the moon with the shortest orbital period (sideralOrbit) and the planet it orbits.\n"
   ]
  },
  {
   "cell_type": "code",
   "execution_count": 17,
   "metadata": {},
   "outputs": [
    {
     "name": "stdout",
     "output_type": "stream",
     "text": [
      "Object with the highest orbital eccentricity is Nereid with a orbital eccentricity of 0.7512000000000001\n"
     ]
    }
   ],
   "source": [
    "# Highest orbital eccentricity\n",
    "eccentric_object = data.loc[data[\"eccentricity\"].idxmax()]\n",
    "\n",
    "planet_name = eccentric_object['eName']\n",
    "eccentricity_value = eccentric_object['eccentricity']\n",
    "print(f\"Object with the highest orbital eccentricity is {planet_name} with a orbital eccentricity of {eccentricity_value}\")"
   ]
  },
  {
   "cell_type": "code",
   "execution_count": 18,
   "metadata": {},
   "outputs": [
    {
     "name": "stdout",
     "output_type": "stream",
     "text": [
      "Average semi-major axis of moons: 12257587.94 km\n",
      "Average semi-major axis of planets: 1264715207.25 km\n",
      "Planets have a higher average semi-major axis than moons.\n"
     ]
    }
   ],
   "source": [
    "# Average semi-major axis of planets vs. moons\n",
    "moons = data[data['orbit_type'] == 'Secondary']\n",
    "avg_moon_semi_major_axis = moons['semimajorAxis'].mean()\n",
    "\n",
    "\n",
    "planets = data[data['isPlanet'] == True]\n",
    "avg_planet_semi_major_axis = planets['semimajorAxis'].mean()\n",
    "\n",
    "print(f\"Average semi-major axis of moons: {avg_moon_semi_major_axis:.2f} km\")\n",
    "print(f\"Average semi-major axis of planets: {avg_planet_semi_major_axis:.2f} km\")\n",
    "\n",
    "if avg_moon_semi_major_axis > avg_planet_semi_major_axis:\n",
    "    print(\"Moons have a higher average semi-major axis than planets.\")\n",
    "else:\n",
    "    print(\"Planets have a higher average semi-major axis than moons.\")"
   ]
  },
  {
   "cell_type": "code",
   "execution_count": 19,
   "metadata": {},
   "outputs": [
    {
     "name": "stdout",
     "output_type": "stream",
     "text": [
      "The moon with the shortest orbital period is Ferdinand and the planet it orbits is Uranus\n"
     ]
    }
   ],
   "source": [
    "# Moon with the shortest orbital period\n",
    "shortest_orbit_moon_idx = data[data['orbit_type'] == 'Secondary'][\"sideralOrbit\"].idxmin()\n",
    "shortest_orbit_moon = data.loc[shortest_orbit_moon_idx]\n",
    "\n",
    "planet_name = shortest_orbit_moon['orbits']\n",
    "moon_name = shortest_orbit_moon['eName']\n",
    "\n",
    "print(f\"The moon with the shortest orbital period is {moon_name} and the planet it orbits is {planet_name}\")"
   ]
  },
  {
   "cell_type": "markdown",
   "metadata": {},
   "source": [
    "### 5. Discovery Dates\n",
    "\n",
    "- How many objects have recorded discovery dates?\n",
    "- Which is the oldest discovered moon (except ours) for which we have recorded discovery dates, and when was it discovered?\n",
    "\n",
    "> Look at the format of dates in the dataset. You will find NA values for objects without recorded discovery dates. Also some dates are just a year, while others are more precise. Complete dates are formatted as `DD/MM/YYYY` (e.g, 12/04/1997), while years are formatted as `YYYY`, e.g., `1997`. Finally some dates may have `??` in place of day or months, which should be cleaned up. For instance by converting `??/??/1997` to `01/01/1997` or `??/04/1997` to `01/04/1997`. \n",
    "\n",
    "> **Hint**: Pandas `.to_datetime()` does not support dates before 1600. I recommend to create a function to clean the dates and use the `.apply()` to run. For example, first ignore NA values, then convert the valid complete dates while handling the years by padding them to a full date format if needed (like Jan 1st). Alternatively, you can use pd.period."
   ]
  },
  {
   "cell_type": "code",
   "execution_count": 20,
   "metadata": {},
   "outputs": [],
   "source": [
    "# Example of how to parse and clean the strings for the assignment\n",
    "def preprocess_dates(date_string):\n",
    "    # convert to YYYY-MM-DD\n",
    "    if pd.isna(date_string):\n",
    "        return pd.NA\n",
    "    \n",
    "    # replace ?? by 01\n",
    "    date_string = date_string.replace('??', '01')\n",
    "\n",
    "    # add 01/01 if only year is provided\n",
    "    if len(date_string) == 4:\n",
    "        date_string = '01/01/' + date_string\n",
    "    \n",
    "    # transform to YYYY-MM-DD\n",
    "    date_splitted = date_string.split('/')\n",
    "\n",
    "    # but only if the string has 3 parts (day, month, year)\n",
    "    if len(date_splitted) == 3:\n",
    "        day = date_splitted[0]\n",
    "        month = date_splitted[1]\n",
    "        year = date_splitted[2]\n",
    "        return f\"{year}-{month}-{day}\"\n",
    "        # or using pandas Period (pd.Period)\n",
    "        # return pd.Period(year=int(year), month=int(month), day=int(day), freq=\"D\")\n",
    "    else:\n",
    "        return pd.NA\n",
    "\n",
    "data['parsedDiscoveryDate'] = data['discoveryDate'].apply(preprocess_dates)"
   ]
  },
  {
   "cell_type": "code",
   "execution_count": 21,
   "metadata": {},
   "outputs": [
    {
     "data": {
      "text/plain": [
       "256"
      ]
     },
     "execution_count": 21,
     "metadata": {},
     "output_type": "execute_result"
    }
   ],
   "source": [
    "# Objects with discovery dates\n",
    "num_discovered_objects = data['parsedDiscoveryDate'].notna().sum()\n",
    "num_discovered_objects"
   ]
  },
  {
   "cell_type": "code",
   "execution_count": 22,
   "metadata": {},
   "outputs": [
    {
     "name": "stdout",
     "output_type": "stream",
     "text": [
      "The oldest discovered moon is Helene, discovered on 01/03/1980.\n"
     ]
    }
   ],
   "source": [
    "# Oldest discovered moon\n",
    "moons_with_dates = data[(data['orbit_type'] == 'Secondary') & data['discoveryDate'].notna()]\n",
    "\n",
    "oldest_moon = moons_with_dates.loc[moons_with_dates['discoveryDate'].idxmin()]\n",
    "\n",
    "moon_name = oldest_moon['eName']\n",
    "discovery_date = oldest_moon['discoveryDate']\n",
    "\n",
    "print(f\"The oldest discovered moon is {moon_name}, discovered on {discovery_date}.\")"
   ]
  },
  {
   "cell_type": "markdown",
   "metadata": {},
   "source": [
    "### 6. Advanced Analysis\n",
    "\n",
    "- Calculate the average density of moons that orbit planets with a mass greater than Earth's mass (`5.97e24 kg`).\n",
    "- Group all objects by their `orbit_type` and compute the average orbital eccentricity for each group.\n",
    "- Identify the top 3 moons with the highest escape velocity (escape).\n"
   ]
  },
  {
   "cell_type": "code",
   "execution_count": 23,
   "metadata": {},
   "outputs": [
    {
     "name": "stdout",
     "output_type": "stream",
     "text": [
      "Average density of moons orbiting planets more massive than Earth: 1.06 g/cm³\n"
     ]
    }
   ],
   "source": [
    "# Average density of moons orbiting planets with mass > Earth\n",
    "earth_mass = data[(data['isPlanet'] == True) & (data['eName'] == 'Earth')]['mass_kg'].values[0]\n",
    "\n",
    "massive_planets = data[(data['isPlanet'] == True) & (data['mass_kg'] > earth_mass)]\n",
    "\n",
    "massive_planet_names = massive_planets['eName'].unique()\n",
    "\n",
    "moons_orbiting_massive_planets = data[(data['orbit_type'] == 'Secondary') & (data['orbits'].isin(massive_planet_names))]\n",
    "\n",
    "average_moon_density = moons_orbiting_massive_planets['density'].mean()\n",
    "\n",
    "print(f\"Average density of moons orbiting planets more massive than Earth: {average_moon_density:.2f} g/cm³\")"
   ]
  },
  {
   "cell_type": "code",
   "execution_count": 24,
   "metadata": {},
   "outputs": [
    {
     "name": "stdout",
     "output_type": "stream",
     "text": [
      "Average Orbital Eccentricity by Orbit Type:\n",
      "\n",
      "  Primary: 0.026622\n",
      "  Secondary: 0.182512\n"
     ]
    }
   ],
   "source": [
    "# Average orbital eccentricity by orbit_type\n",
    "avg_eccentricity_by_type = data.groupby('orbit_type')['eccentricity'].mean()\n",
    "\n",
    "print(\"Average Orbital Eccentricity by Orbit Type:\\n\")\n",
    "for orbit_type, eccentricity in avg_eccentricity_by_type.items():\n",
    "    print(f\"  {orbit_type}: {eccentricity:.6f}\")\n"
   ]
  },
  {
   "cell_type": "code",
   "execution_count": 25,
   "metadata": {},
   "outputs": [
    {
     "name": "stdout",
     "output_type": "stream",
     "text": [
      "Top 3 moons with the highest escape velocity:\n",
      "\n",
      "Moon (orbits Earth): 2380.00 m/s\n",
      "Phobos (orbits Mars): 11.39 m/s\n",
      "Deimos (orbits Mars): 5.56 m/s\n"
     ]
    }
   ],
   "source": [
    "# Top 3 moons with highest escape velocity\n",
    "moons = data[data['orbit_type'] == 'Secondary']\n",
    "\n",
    "top_moons_escape_velocity = moons.nlargest(3, 'escape')[['eName', 'escape', 'orbits']]\n",
    "\n",
    "print(\"Top 3 moons with the highest escape velocity:\\n\")\n",
    "for index, row in top_moons_escape_velocity.iterrows():\n",
    "    print(f\"{row['eName']} (orbits {row['orbits']}): {row['escape']:.2f} m/s\")"
   ]
  },
  {
   "cell_type": "markdown",
   "metadata": {},
   "source": [
    "### 7. Extra questions\n",
    "\n",
    "1. How many moons have a mass less than 10% of Earth's moon? What percentage of all moons does this represent?\n",
    "2. Calculate the ratio of moons to planets in the dataset. Which planet has the highest number of moons relative to its mass?\n",
    "3. Group moons by their host planet and calculate the average density for each group. Which planet hosts moons with the highest average density?"
   ]
  },
  {
   "cell_type": "code",
   "execution_count": 57,
   "metadata": {},
   "outputs": [
    {
     "name": "stdout",
     "output_type": "stream",
     "text": [
      "Number of moons with a mass less than Earth's Moon: 200\n",
      "Percentage of such moons: 97.56%\n"
     ]
    }
   ],
   "source": [
    "# Moons with a mass less than Earth's moon and percentage\n",
    "earth_moon_mass = data[(data['orbit_type'] == 'Secondary') & (data['orbits'] == 'Earth')]['mass_kg'].values[0]\n",
    "\n",
    "lighter_moons = data[(data['orbit_type'] == 'Secondary') & (data['mass_kg'] < earth_moon_mass)]\n",
    "\n",
    "num_lighter_moons = lighter_moons.shape[0]\n",
    "\n",
    "total_moons = data[data['orbit_type'] == 'Secondary'].shape[0]\n",
    "\n",
    "percentage_lighter_moons = (num_lighter_moons / total_moons) * 100 if total_moons > 0 else 0\n",
    "\n",
    "print(f\"Number of moons with a mass less than Earth's Moon: {num_lighter_moons}\")\n",
    "print(f\"Percentage of such moons: {percentage_lighter_moons:.2f}%\")"
   ]
  },
  {
   "cell_type": "code",
   "execution_count": 26,
   "metadata": {},
   "outputs": [
    {
     "ename": "NameError",
     "evalue": "name 'num_planets' is not defined",
     "output_type": "error",
     "traceback": [
      "\u001b[0;31m---------------------------------------------------------------------------\u001b[0m",
      "\u001b[0;31mNameError\u001b[0m                                 Traceback (most recent call last)",
      "Cell \u001b[0;32mIn[26], line 4\u001b[0m\n\u001b[1;32m      1\u001b[0m \u001b[38;5;66;03m# Ratio of moons to planets and planet with highest moon to mass ratio\u001b[39;00m\n\u001b[1;32m      2\u001b[0m planet_masses \u001b[38;5;241m=\u001b[39m data[data[\u001b[38;5;124m'\u001b[39m\u001b[38;5;124misPlanet\u001b[39m\u001b[38;5;124m'\u001b[39m] \u001b[38;5;241m==\u001b[39m \u001b[38;5;28;01mTrue\u001b[39;00m]\u001b[38;5;241m.\u001b[39mset_index(\u001b[38;5;124m'\u001b[39m\u001b[38;5;124meName\u001b[39m\u001b[38;5;124m'\u001b[39m)[\u001b[38;5;124m'\u001b[39m\u001b[38;5;124mmass_kg\u001b[39m\u001b[38;5;124m'\u001b[39m]\n\u001b[0;32m----> 4\u001b[0m moons_to_planets_ratio \u001b[38;5;241m=\u001b[39m num_moons \u001b[38;5;241m/\u001b[39m num_planets \u001b[38;5;28;01mif\u001b[39;00m \u001b[43mnum_planets\u001b[49m \u001b[38;5;241m>\u001b[39m \u001b[38;5;241m0\u001b[39m \u001b[38;5;28;01melse\u001b[39;00m \u001b[38;5;241m0\u001b[39m\n\u001b[1;32m      6\u001b[0m moon_mass_ratios \u001b[38;5;241m=\u001b[39m (moons_per_planet \u001b[38;5;241m/\u001b[39m planet_masses)\u001b[38;5;241m.\u001b[39mdropna()\n\u001b[1;32m      8\u001b[0m highest_ratio_planet \u001b[38;5;241m=\u001b[39m moon_mass_ratios\u001b[38;5;241m.\u001b[39midxmax()\n",
      "\u001b[0;31mNameError\u001b[0m: name 'num_planets' is not defined"
     ]
    }
   ],
   "source": [
    "# Ratio of moons to planets and planet with highest moon to mass ratio"
   ]
  },
  {
   "cell_type": "code",
   "execution_count": 27,
   "metadata": {},
   "outputs": [
    {
     "name": "stdout",
     "output_type": "stream",
     "text": [
      "Average Density of Moons per Planet:\n",
      "\n",
      "Uranus: 1.09 g/cm³\n",
      "Neptune: 1.07 g/cm³\n",
      "Jupiter: 1.11 g/cm³\n",
      "Mars: 1.83 g/cm³\n",
      "Mercury: No moons\n",
      "Saturn: 0.99 g/cm³\n",
      "Earth: 3.34 g/cm³\n",
      "Venus: No moons\n",
      "Average Density of Moons per Planet:\n",
      "\n",
      "Uranus: 1.09 g/cm³\n",
      "Neptune: 1.07 g/cm³\n",
      "Jupiter: 1.11 g/cm³\n",
      "Mars: 1.83 g/cm³\n",
      "Mercury: No moons\n",
      "Saturn: 0.99 g/cm³\n",
      "Earth: 3.34 g/cm³\n",
      "Venus: No moons\n"
     ]
    }
   ],
   "source": [
    "all_planets = data[data['isPlanet'] == True]['eName'].unique()\n",
    "\n",
    "moons_filtered = moons[moons['orbits'].isin(all_planets)]\n",
    "\n",
    "average_moon_density_by_planet = moons_filtered.groupby('orbits')['density'].mean()\n",
    "\n",
    "print(\"Average Density of Moons per Planet:\\n\")\n",
    "for planet in all_planets:\n",
    "    if planet in average_moon_density_by_planet:\n",
    "        print(f\"{planet}: {average_moon_density_by_planet[planet]:.2f} g/cm³\")\n",
    "    else:\n",
    "        print(f\"{planet}: No moons\")\n",
    "# Average density of moons per planet\n",
    "all_planets = data[data['isPlanet'] == True]['eName'].unique()\n",
    "\n",
    "moons_filtered = moons[moons['orbits'].isin(all_planets)]\n",
    "\n",
    "average_moon_density_by_planet = moons_filtered.groupby('orbits')['density'].mean()\n",
    "\n",
    "print(\"Average Density of Moons per Planet:\\n\")\n",
    "for planet in all_planets:\n",
    "    if planet in average_moon_density_by_planet:\n",
    "        print(f\"{planet}: {average_moon_density_by_planet[planet]:.2f} g/cm³\")\n",
    "    else:\n",
    "        print(f\"{planet}: No moons\")\n"
   ]
  },
  {
   "cell_type": "code",
   "execution_count": null,
   "metadata": {},
   "outputs": [],
   "source": []
  }
 ],
 "metadata": {
  "anaconda-cloud": {},
  "colab": {
   "provenance": [
    {
     "file_id": "https://github.com/yy/dviz-course/blob/master/m01-intro/lab01.ipynb",
     "timestamp": 1683497199468
    }
   ]
  },
  "kernel_info": {
   "name": "dviz"
  },
  "kernelspec": {
   "display_name": "Python 3 (ipykernel)",
   "language": "python",
   "name": "python3"
  },
  "language_info": {
   "codemirror_mode": {
    "name": "ipython",
    "version": 3
   },
   "file_extension": ".py",
   "mimetype": "text/x-python",
   "name": "python",
   "nbconvert_exporter": "python",
   "pygments_lexer": "ipython3",
   "version": "3.12.6"
  },
  "nteract": {
   "version": "0.14.5"
  }
 },
 "nbformat": 4,
 "nbformat_minor": 4
}
